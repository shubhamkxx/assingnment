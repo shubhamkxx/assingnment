{
 "cells": [
  {
   "cell_type": "markdown",
   "id": "cc374338",
   "metadata": {},
   "source": [
    "# 1 > Write a code to reverse a string\n"
   ]
  },
  {
   "cell_type": "code",
   "execution_count": 22,
   "id": "b773f383",
   "metadata": {},
   "outputs": [
    {
     "data": {
      "text/plain": [
       "'slliks wp'"
      ]
     },
     "execution_count": 22,
     "metadata": {},
     "output_type": "execute_result"
    }
   ],
   "source": [
    "txt = \"pw skills\" [:: -1]\n",
    "txt\n"
   ]
  },
  {
   "cell_type": "markdown",
   "id": "4da4a59c",
   "metadata": {},
   "source": [
    "# 2 > Write a code to count the number of vowels in a string."
   ]
  },
  {
   "cell_type": "code",
   "execution_count": 58,
   "id": "dd874a15",
   "metadata": {},
   "outputs": [
    {
     "name": "stdout",
     "output_type": "stream",
     "text": [
      "inter a stringshubham from mumbai\n"
     ]
    },
    {
     "data": {
      "text/plain": [
       "6"
      ]
     },
     "execution_count": 58,
     "metadata": {},
     "output_type": "execute_result"
    }
   ],
   "source": [
    "s=input(\"inter a string\")\n",
    "count = 0\n",
    "for i in range(0,len(s)):\n",
    "    if(s[i]=='a' or s[i]=='e' or s[i]=='i' or s[i]=='o' or s[i]=='u'):\n",
    "        count=count+1\n",
    "count\n",
    "\n"
   ]
  },
  {
   "cell_type": "markdown",
   "id": "d2c6772c",
   "metadata": {},
   "source": []
  },
  {
   "cell_type": "code",
   "execution_count": 1,
   "id": "753d2d4c",
   "metadata": {},
   "outputs": [
    {
     "name": "stdout",
     "output_type": "stream",
     "text": [
      "Enter a string:shubhm\n",
      "shubhm is not a palindrome\n"
     ]
    }
   ],
   "source": [
    "n = input(\"Enter a string:\")\n",
    "if n==n[::-1]:\n",
    "    print(n+\" is a palindrome\")\n",
    "else:\n",
    "    print(n+ \" is not a palindrome\")"
   ]
  },
  {
   "cell_type": "markdown",
   "id": "e7d82ca2",
   "metadata": {},
   "source": [
    "# 4.> Write a code to check if two given strings are anagrams of each other"
   ]
  },
  {
   "cell_type": "code",
   "execution_count": 7,
   "id": "8ad1360e",
   "metadata": {},
   "outputs": [
    {
     "name": "stdout",
     "output_type": "stream",
     "text": [
      "PWandSkillsare not anagram.\n"
     ]
    }
   ],
   "source": [
    "str1 = \"PW\"\n",
    "str2 = \"Skills\"\n",
    "str1.lower()\n",
    "str2.lower()\n",
    "if (len(str1)==len(str2)):\n",
    "    sorted_str1 = sorted(str1)\n",
    "    sorted_str2 = sorted(str2)\n",
    "    if(sorted_str1 == sorted_str2):\n",
    "        print(str1 + \"and\" + str2 + \"are anagram.\")\n",
    "    else:\n",
    "        print(str1 + \"and\" +str2 + \"are not anagram.\")\n",
    "else:\n",
    "    print(str1 + \"and\" +str2 + \"are not anagram.\")\n",
    "        \n",
    "        \n"
   ]
  },
  {
   "cell_type": "markdown",
   "id": "b4a06491",
   "metadata": {},
   "source": [
    "# 5.>> Write a code to find all occurrences of a given substring within another string."
   ]
  },
  {
   "cell_type": "code",
   "execution_count": 9,
   "id": "56ed35ff",
   "metadata": {},
   "outputs": [
    {
     "name": "stdout",
     "output_type": "stream",
     "text": [
      "0 8 "
     ]
    }
   ],
   "source": [
    "def printIndex(str, s):\n",
    "\n",
    "    flag = False\n",
    "    for i in range(len(str)):\n",
    "        if (str[i:i + len(s)] == s):\n",
    "\n",
    "            print(i, end=\" \")\n",
    "            flag = True\n",
    "\n",
    "    if (flag == False):\n",
    "        print(\"NONE\")\n",
    "\n",
    "str1 = \"GeeksforGeeks\"\n",
    "str2 = \"Geeks\"\n",
    "printIndex(str1, str2)\n"
   ]
  },
  {
   "cell_type": "markdown",
   "id": "3bb84cf0",
   "metadata": {},
   "source": [
    "# 6. >Write a code to perform basic string compression using the counts of repeated characters.\n",
    "\n"
   ]
  },
  {
   "cell_type": "code",
   "execution_count": 1,
   "id": "29b768a1",
   "metadata": {},
   "outputs": [
    {
     "name": "stdout",
     "output_type": "stream",
     "text": [
      "['a', '1']\n",
      "['a', '1', 'b', '1']\n",
      "['a', '1', 'b', '1']\n",
      "['a', '1', 'b', '1']\n",
      "['a', '1', 'b', '1', 'c', '3']\n",
      "['a', '1', 'b', '1', 'c', '3']\n",
      "['a', '1', 'b', '1', 'c', '3', 'f', '2']\n",
      "['a', '1', 'b', '1', 'c', '3', 'f', '2']\n",
      "['a', '1', 'b', '1', 'c', '3', 'f', '2', 'g', '2']\n"
     ]
    },
    {
     "data": {
      "text/plain": [
       "'abcccffggg'"
      ]
     },
     "execution_count": 1,
     "metadata": {},
     "output_type": "execute_result"
    }
   ],
   "source": [
    "def compression(string): \n",
    "    hash = {}\n",
    "    list = []\n",
    "    count = 0\n",
    "    for i in range(len(string) - 1): \n",
    "        if string[i - 1] != string[i] or i == 0: \n",
    "            if string[i] != string[i + 1] or i == len(string) - 2: \n",
    "                count = count + 1\n",
    "                list.append(str(string[i]))\n",
    "                list.append(str(count))\n",
    "                count = 0\n",
    "            elif string[i] == string[i + 1]: \n",
    "                count = count + 1\n",
    "        elif string[i - 1] == string[i]:\n",
    "            if string[i] != string[i + 1] or i == len(string) - 2: \n",
    "                count = count + 1\n",
    "                list.append(str(string[i]))\n",
    "                list.append(str(count))\n",
    "                count = 0\n",
    "            if string[i] == string[i + 1]: \n",
    "                count = count + 1\n",
    "        print(list)\n",
    "    result =  \"\".join(list)\n",
    "    if len(result) == len(string): \n",
    "        return string\n",
    "    else: \n",
    "        return result\n",
    "string = \"abcccffggg\"\n",
    "compression(string)"
   ]
  },
  {
   "cell_type": "markdown",
   "id": "964c76b7",
   "metadata": {},
   "source": [
    "# 7.> Write a code to determine if a string has all unique characters.\n"
   ]
  },
  {
   "cell_type": "code",
   "execution_count": 21,
   "id": "99118958",
   "metadata": {},
   "outputs": [
    {
     "name": "stdout",
     "output_type": "stream",
     "text": [
      "True\n"
     ]
    }
   ],
   "source": [
    "def isUniqueChars(st):\n",
    "\n",
    "    if len(st) > 256:\n",
    "\n",
    "        return False\n",
    "\n",
    "    char_set = [False] * 128\n",
    "\n",
    "    for i in range(0, len(st)):\n",
    "\n",
    "        val = ord(st[i])\n",
    "\n",
    "        if char_set[val]:\n",
    "\n",
    "            return False\n",
    "        char_set[val] = True\n",
    "    return True\n",
    "\n",
    "st = \"abcd\"\n",
    "\n",
    "print(isUniqueChars(st))"
   ]
  },
  {
   "cell_type": "markdown",
   "id": "767c96b8",
   "metadata": {},
   "source": [
    "# 8. > Write a code to convert a given string to uppercase or lowercase.\n"
   ]
  },
  {
   "cell_type": "code",
   "execution_count": 22,
   "id": "54102988",
   "metadata": {},
   "outputs": [],
   "source": [
    "text = \"Shubham frOm Pw\"\n"
   ]
  },
  {
   "cell_type": "code",
   "execution_count": 25,
   "id": "b2eb5d40",
   "metadata": {},
   "outputs": [
    {
     "data": {
      "text/plain": [
       "'Shubham frOm Pw'"
      ]
     },
     "execution_count": 25,
     "metadata": {},
     "output_type": "execute_result"
    }
   ],
   "source": [
    "text"
   ]
  },
  {
   "cell_type": "code",
   "execution_count": 26,
   "id": "24438fea",
   "metadata": {},
   "outputs": [
    {
     "data": {
      "text/plain": [
       "'shubham from pw'"
      ]
     },
     "execution_count": 26,
     "metadata": {},
     "output_type": "execute_result"
    }
   ],
   "source": [
    "text.lower()"
   ]
  },
  {
   "cell_type": "code",
   "execution_count": 27,
   "id": "1fe63b7b",
   "metadata": {},
   "outputs": [
    {
     "data": {
      "text/plain": [
       "'SHUBHAM FROM PW'"
      ]
     },
     "execution_count": 27,
     "metadata": {},
     "output_type": "execute_result"
    }
   ],
   "source": [
    "text.upper()"
   ]
  },
  {
   "cell_type": "markdown",
   "id": "8d64f185",
   "metadata": {},
   "source": [
    "# 9. > Write a code to count the number of words in a string.\n"
   ]
  },
  {
   "cell_type": "code",
   "execution_count": 32,
   "id": "075890ee",
   "metadata": {},
   "outputs": [
    {
     "name": "stdout",
     "output_type": "stream",
     "text": [
      "5\n"
     ]
    }
   ],
   "source": [
    "string = \"hi my name is shubhan+m\"\n",
    "word = 1\n",
    "for i in range(len(string)):\n",
    "     if string[i]==' ': \n",
    "        word+=1\n",
    "\n",
    "print(word)"
   ]
  },
  {
   "cell_type": "markdown",
   "id": "170d8474",
   "metadata": {},
   "source": [
    "# 10.> Write a code to concatenate two strings without using the operator.\n"
   ]
  },
  {
   "cell_type": "code",
   "execution_count": 33,
   "id": "5c5e9301",
   "metadata": {},
   "outputs": [
    {
     "name": "stdout",
     "output_type": "stream",
     "text": [
      "hello, shubham\n"
     ]
    }
   ],
   "source": [
    "name = \"shubham\"\n",
    "greeting = \"hello, \" + name\n",
    "print(greeting)"
   ]
  },
  {
   "cell_type": "markdown",
   "id": "fcbfb8da",
   "metadata": {},
   "source": [
    "# 11.> Write a code to remove all occurrences of a specific element from a list.\n"
   ]
  },
  {
   "cell_type": "code",
   "execution_count": 42,
   "id": "0238a5c9",
   "metadata": {},
   "outputs": [
    {
     "name": "stdout",
     "output_type": "stream",
     "text": [
      "[11, 12, 13, 14, 15]\n"
     ]
    }
   ],
   "source": [
    "list1 = [11,12,13,14,15]\n",
    "print(list1)"
   ]
  },
  {
   "cell_type": "code",
   "execution_count": 44,
   "id": "d137cfb0",
   "metadata": {},
   "outputs": [],
   "source": [
    "list1.clear()"
   ]
  },
  {
   "cell_type": "code",
   "execution_count": 45,
   "id": "7a5cce18",
   "metadata": {},
   "outputs": [
    {
     "data": {
      "text/plain": [
       "[]"
      ]
     },
     "execution_count": 45,
     "metadata": {},
     "output_type": "execute_result"
    }
   ],
   "source": [
    "list1 "
   ]
  },
  {
   "cell_type": "markdown",
   "id": "e65f36ae",
   "metadata": {},
   "source": [
    "# 12.> Implement a code to find the second largest number in a given list of integers.\n"
   ]
  },
  {
   "cell_type": "code",
   "execution_count": 55,
   "id": "5cbe6a85",
   "metadata": {},
   "outputs": [
    {
     "name": "stdout",
     "output_type": "stream",
     "text": [
      "second largest element - 40\n"
     ]
    }
   ],
   "source": [
    "my_list = [10,20,30,40,50]\n",
    "my_list.sort()\n",
    "print(f\"second largest element - {my_list[-2]}\")"
   ]
  },
  {
   "cell_type": "markdown",
   "id": "7af8d33e",
   "metadata": {},
   "source": [
    "# 13. > Create a code to count the occurrences of each element in a list and return a dictionary with elemen keys and their counts as values.\n"
   ]
  },
  {
   "cell_type": "code",
   "execution_count": 67,
   "id": "a995f060",
   "metadata": {},
   "outputs": [
    {
     "name": "stdout",
     "output_type": "stream",
     "text": [
      "{45: 1}\n"
     ]
    }
   ],
   "source": [
    "list1=[1,45,8,11,23,45,23,23,8,11,45]\n",
    "count = dict()\n",
    "for i in list1:\n",
    "    if i in count:\n",
    "        count[i]+=1\n",
    "else:\n",
    "    count[i]=1\n",
    "    print(count)"
   ]
  },
  {
   "cell_type": "markdown",
   "id": "6eddd962",
   "metadata": {},
   "source": [
    "# 14. > write a code to reverse a list in-place without any built-in reverse function"
   ]
  },
  {
   "cell_type": "code",
   "execution_count": 7,
   "id": "beb09adf",
   "metadata": {},
   "outputs": [],
   "source": [
    "list1 = [5,6,7,8,9]"
   ]
  },
  {
   "cell_type": "code",
   "execution_count": 9,
   "id": "c69a3656",
   "metadata": {},
   "outputs": [
    {
     "data": {
      "text/plain": [
       "[9, 8, 7, 6, 5]"
      ]
     },
     "execution_count": 9,
     "metadata": {},
     "output_type": "execute_result"
    }
   ],
   "source": [
    "list1[::-1]"
   ]
  },
  {
   "cell_type": "markdown",
   "id": "e9f41a36",
   "metadata": {},
   "source": [
    "# 15. >Implement a code to find and remove duplicates from a list while preserving the original order of elements"
   ]
  },
  {
   "cell_type": "code",
   "execution_count": 14,
   "id": "adba447f",
   "metadata": {},
   "outputs": [
    {
     "name": "stdout",
     "output_type": "stream",
     "text": [
      "The original list is : [1, 5, 3, 6, 3, 5, 6, 1]\n",
      "The list after removing duplicates : [1, 3, 5, 6]\n"
     ]
    }
   ],
   "source": [
    "# initializing list\n",
    "test_list = [1, 5, 3, 6, 3, 5, 6, 1]\n",
    "print (\"The original list is : \" + str(test_list))\n",
    "test_list = list(set(test_list))\n",
    "print (\"The list after removing duplicates : \" +str(test_list))"
   ]
  },
  {
   "cell_type": "markdown",
   "id": "8ac4c7af",
   "metadata": {},
   "source": [
    "# 16. > create a code to check if a given list is sorted (either in ascending or descending order)or not."
   ]
  },
  {
   "cell_type": "code",
   "execution_count": 20,
   "id": "816a46c2",
   "metadata": {},
   "outputs": [
    {
     "name": "stdout",
     "output_type": "stream",
     "text": [
      "[5, 6, 7, 33, 54, 56, 79, 855]\n"
     ]
    }
   ],
   "source": [
    "numbers = [5,855,79,7,6,54,56,33]\n",
    "sorted_numbers = sorted(numbers)\n",
    "print(sorted_numbers)"
   ]
  },
  {
   "cell_type": "code",
   "execution_count": 21,
   "id": "77fca672",
   "metadata": {},
   "outputs": [
    {
     "name": "stdout",
     "output_type": "stream",
     "text": [
      "[855, 79, 56, 54, 33, 7, 6, 5]\n"
     ]
    }
   ],
   "source": [
    "sorted_numbers = sorted(numbers,reverse=True)\n",
    "print(sorted_numbers)"
   ]
  },
  {
   "cell_type": "markdown",
   "id": "89fbf227",
   "metadata": {},
   "source": [
    "# 17 . > write a code to merge two sorted list into a single list"
   ]
  },
  {
   "cell_type": "code",
   "execution_count": 24,
   "id": "aa7f5cce",
   "metadata": {},
   "outputs": [
    {
     "name": "stdout",
     "output_type": "stream",
     "text": [
      "[1, 2, 3, 4, 6, 7, 7, 1, 2, 3, 4, 6, 7, 7]\n"
     ]
    }
   ],
   "source": [
    "list1 = [ 1,2,3,4,6,7,7]\n",
    "list2 = [56,7,8,99,9,5]\n",
    "list3 = list1+list1\n",
    "print(list3)\n"
   ]
  },
  {
   "cell_type": "markdown",
   "id": "27a2401e",
   "metadata": {},
   "source": [
    "# 18. > implement a code to find the intersection of two given list"
   ]
  },
  {
   "cell_type": "code",
   "execution_count": 28,
   "id": "87822712",
   "metadata": {},
   "outputs": [
    {
     "name": "stdout",
     "output_type": "stream",
     "text": [
      "[9, 1, 17, 11, 6, 8, 4, 7] [9, 74, 21, 45, 11, 63, 28, 26]\n"
     ]
    }
   ],
   "source": [
    "list1 =[ 9, 1, 17, 11, 6, 8, 4, 7]\n",
    "list2 =[ 9,74,21,45,11,63,28,26]\n",
    "print(list1,list2)"
   ]
  },
  {
   "cell_type": "markdown",
   "id": "7c067d2b",
   "metadata": {},
   "source": [
    "# 19 . > create a code to find union of two list without duplicates"
   ]
  },
  {
   "cell_type": "code",
   "execution_count": 30,
   "id": "b5bedb53",
   "metadata": {},
   "outputs": [
    {
     "name": "stdout",
     "output_type": "stream",
     "text": [
      "complete list: ['apple', 'banana', 'orange', 'pinapple', 'libanana', ' oat', 'frute', 'pinapple']\n",
      "list without duplicates: ['apple', 'banana', 'orange', 'pinapple', 'libanana', ' oat', 'frute', 'pinapple']\n"
     ]
    }
   ],
   "source": [
    "lis1 = [\"apple\", \"banana\", \"orange\", \"pinapple\"]\n",
    "lis2 = [\"libanana\", \" oat\", \"frute\", \"pinapple\"]\n",
    "lis3 = lis1 + lis2\n",
    "print(\"complete list:\", lis3)\n",
    "lis4 = list(set(lis3))\n",
    "print(\"list without duplicates:\", lis3)\n"
   ]
  },
  {
   "cell_type": "code",
   "execution_count": 31,
   "id": "77dc7f83",
   "metadata": {},
   "outputs": [
    {
     "name": "stdout",
     "output_type": "stream",
     "text": [
      "list without duplicates: ['alice', 'bob', 'charlie', 'david', 'frank']\n"
     ]
    }
   ],
   "source": [
    "a = [\"alice\", \"bob\", \"charlie\", \"david\"]\n",
    "b = [\"charlie\", \"david\", \"alice\", \"frank\"]\n",
    "c = list(a)\n",
    "c.extend(y for y in b if y not in c)\n",
    "print(\"list without duplicates:\", c)"
   ]
  },
  {
   "cell_type": "markdown",
   "id": "3f48e830",
   "metadata": {},
   "source": [
    "# 20 . > write a code to shuffle a given a list randomly without using any built-in shuffle function "
   ]
  },
  {
   "cell_type": "code",
   "execution_count": 34,
   "id": "ef03caff",
   "metadata": {},
   "outputs": [
    {
     "name": "stdout",
     "output_type": "stream",
     "text": [
      "[7, 1, 2, 9, 3, 5]\n"
     ]
    }
   ],
   "source": [
    "import random\n",
    "l = [1,2,3,5,7,9]\n",
    "random.shuffle(l)\n",
    "print(l)\n",
    "\n",
    "    "
   ]
  },
  {
   "cell_type": "markdown",
   "id": "c481947f",
   "metadata": {},
   "source": [
    "# 21 . > write a code that takes two tuples as input and return a new tuple containing elements that are common to both input tuples"
   ]
  },
  {
   "cell_type": "code",
   "execution_count": 39,
   "id": "3cc97836",
   "metadata": {},
   "outputs": [
    {
     "name": "stdout",
     "output_type": "stream",
     "text": [
      "enter first tuple :-shubham\n",
      "enter second tuple :-kushwaha\n",
      "shubhamkushwaha\n"
     ]
    }
   ],
   "source": [
    "tup1 = input(\"enter first tuple :-\")\n",
    "tup2 = input(\"enter second tuple :-\")\n",
    "tup3 = tup1 + tup2\n",
    "print(tup3)\n"
   ]
  },
  {
   "cell_type": "markdown",
   "id": "8683c015",
   "metadata": {},
   "source": [
    "# 22. > create a code that prompts the user  to enter two sets of integers separated by commas, then,  print the intersection of both two sets"
   ]
  },
  {
   "cell_type": "code",
   "execution_count": 55,
   "id": "7e2532a3",
   "metadata": {},
   "outputs": [],
   "source": [
    "s1 = {\"hiking\", \"coading\", \"reading\"}\n",
    "s2 = {\"coadind\", \"reading\", \"money\"}"
   ]
  },
  {
   "cell_type": "code",
   "execution_count": 56,
   "id": "716cb826",
   "metadata": {},
   "outputs": [
    {
     "data": {
      "text/plain": [
       "{'coading', 'hiking', 'reading'}"
      ]
     },
     "execution_count": 56,
     "metadata": {},
     "output_type": "execute_result"
    }
   ],
   "source": [
    "s1\n"
   ]
  },
  {
   "cell_type": "code",
   "execution_count": 57,
   "id": "bd94365d",
   "metadata": {},
   "outputs": [
    {
     "data": {
      "text/plain": [
       "{'coadind', 'money', 'reading'}"
      ]
     },
     "execution_count": 57,
     "metadata": {},
     "output_type": "execute_result"
    }
   ],
   "source": [
    "s2"
   ]
  },
  {
   "cell_type": "code",
   "execution_count": 58,
   "id": "96820d1a",
   "metadata": {},
   "outputs": [
    {
     "data": {
      "text/plain": [
       "{'reading'}"
      ]
     },
     "execution_count": 58,
     "metadata": {},
     "output_type": "execute_result"
    }
   ],
   "source": [
    "s1&s2"
   ]
  },
  {
   "cell_type": "markdown",
   "id": "b3db3e0e",
   "metadata": {},
   "source": [
    "# 23. > Write a code to concatenate two tuples. The function should take two tuples as input and return a new tuple containing elements from both input tuples."
   ]
  },
  {
   "cell_type": "code",
   "execution_count": 59,
   "id": "0642ecef",
   "metadata": {},
   "outputs": [
    {
     "name": "stdout",
     "output_type": "stream",
     "text": [
      "<class 'tuple'>\n"
     ]
    }
   ],
   "source": [
    "t1 = (1,2,3,4)\n",
    "print(type(t1))"
   ]
  },
  {
   "cell_type": "code",
   "execution_count": 60,
   "id": "59ea38e4",
   "metadata": {},
   "outputs": [
    {
     "data": {
      "text/plain": [
       "(1, 2, 3, 4, 100, 200, 300)"
      ]
     },
     "execution_count": 60,
     "metadata": {},
     "output_type": "execute_result"
    }
   ],
   "source": [
    "t2 = (100,200,300)\n",
    "t1+t2"
   ]
  },
  {
   "cell_type": "markdown",
   "id": "70c696b0",
   "metadata": {},
   "source": [
    "# 24. > Develop a code that prompts the user to input two sets of strings. Then, print the elements that are present in the first set but not in the second set."
   ]
  },
  {
   "cell_type": "code",
   "execution_count": 13,
   "id": "06687fae",
   "metadata": {},
   "outputs": [
    {
     "name": "stdout",
     "output_type": "stream",
     "text": [
      "{3, 4, 5, 6}\n"
     ]
    }
   ],
   "source": [
    "s1 = {1,2,3,4,5,6}\n",
    "s2 = {3,4,5,6,7}\n",
    "print(s1& s2)\n"
   ]
  },
  {
   "cell_type": "markdown",
   "id": "e5320f5c",
   "metadata": {},
   "source": [
    "# 25.> Create a code that takes a tuple and two integers as input. The function should return a new tuple containing elements from the original tuple within the specified range of indices."
   ]
  },
  {
   "cell_type": "code",
   "execution_count": 15,
   "id": "79db819a",
   "metadata": {},
   "outputs": [
    {
     "name": "stdout",
     "output_type": "stream",
     "text": [
      "enter numbers of elements 4\n",
      "enter elements66\n",
      "(66,)\n",
      "enter elements65\n",
      "(66, 65)\n",
      "enter elements43\n",
      "(66, 65, 43)\n",
      "enter elements34\n",
      "(66, 65, 43, 34)\n"
     ]
    }
   ],
   "source": [
    "tup=()\n",
    "n=int(input('enter numbers of elements '))\n",
    "for x in range(n):\n",
    "    tup+=(int(input('enter elements')),)\n",
    "    print(tup)"
   ]
  },
  {
   "cell_type": "markdown",
   "id": "b3ad56a9",
   "metadata": {},
   "source": [
    "# 26.> Write a code that prompts the user to input two sets of characters. Then, print the union of these two sets."
   ]
  },
  {
   "cell_type": "code",
   "execution_count": 18,
   "id": "b27f75a0",
   "metadata": {},
   "outputs": [
    {
     "name": "stdout",
     "output_type": "stream",
     "text": [
      "enter 1st string:shubham\n",
      "enter 2nd string:kushwaha\n",
      "common characters:\n",
      "a\n",
      "h\n",
      "s\n",
      "u\n"
     ]
    }
   ],
   "source": [
    "\n"
   ]
  },
  {
   "cell_type": "code",
   "execution_count": 19,
   "id": "60686357",
   "metadata": {},
   "outputs": [
    {
     "name": "stdout",
     "output_type": "stream",
     "text": [
      "enter 1st string:books\n",
      "enter 2nd string:books\n",
      "common characters:\n",
      "o\n",
      "k\n",
      "b\n",
      "s\n"
     ]
    }
   ],
   "source": [
    "str1 = input(\"enter 1st string:\")\n",
    "str2 = input(\"enter 2nd string:\")\n",
    "common=set (str1)&set(str2)\n",
    "print(\"common characters:\")\n",
    "for c in common:\n",
    "    print(c)\n",
    "    "
   ]
  },
  {
   "cell_type": "markdown",
   "id": "91732cb6",
   "metadata": {},
   "source": [
    "# 27. > Develop a code that takes a tuple of integers as input. The function should return the maximum and minimum values from the tuple using tuple unpacking."
   ]
  },
  {
   "cell_type": "code",
   "execution_count": 21,
   "id": "1b0acd5b",
   "metadata": {},
   "outputs": [
    {
     "name": "stdout",
     "output_type": "stream",
     "text": [
      "100\n",
      "55\n"
     ]
    }
   ],
   "source": [
    "value = {100,200,300,400,500}\n",
    "value1 = {144,344,55,66,777}\n",
    "print(min(value))\n",
    "print(min(value1))"
   ]
  },
  {
   "cell_type": "markdown",
   "id": "33b53e2d",
   "metadata": {},
   "source": [
    "# 28. > Create a code that defines two sets of integers. Then, print the union, intersection, and difference of these two sets."
   ]
  },
  {
   "cell_type": "code",
   "execution_count": 27,
   "id": "8c872ff8",
   "metadata": {},
   "outputs": [
    {
     "name": "stdout",
     "output_type": "stream",
     "text": [
      "union :  {0, 1, 2, 3, 4, 5, 6, 8}\n",
      "intersection: {2, 4}\n",
      "difference: {0, 8, 6}\n"
     ]
    }
   ],
   "source": [
    "a = {0,2,4,6,8}\n",
    "b = {1,2,3,4,5}\n",
    "print(\"union : \", a | b)\n",
    "print(\"intersection:\", a& b)\n",
    "print(\"difference:\",a - b)"
   ]
  },
  {
   "cell_type": "markdown",
   "id": "a51ccfaa",
   "metadata": {},
   "source": [
    "# 29. > Write a code that takes a tuple and an element as input. The function should return the count of occurrences of the given element in the tuple"
   ]
  },
  {
   "cell_type": "code",
   "execution_count": 28,
   "id": "7f00fa8a",
   "metadata": {},
   "outputs": [
    {
     "name": "stdout",
     "output_type": "stream",
     "text": [
      "0\n",
      "3\n",
      "4\n"
     ]
    }
   ],
   "source": [
    "def countX(tup, x):\n",
    "    count = 0\n",
    "    for ele in tup:\n",
    "        if (ele == x):\n",
    "            count = count + 1\n",
    "    return count\n",
    "tup = (10, 8, 5, 2, 10, 15, 10, 8, 5, 8, 8, 2)\n",
    "enq = 4\n",
    "enq1 = 10\n",
    "enq2 = 8\n",
    " \n",
    "print(countX(tup, enq))\n",
    "print(countX(tup, enq1))\n",
    "print(countX(tup, enq2))"
   ]
  },
  {
   "cell_type": "markdown",
   "id": "bcc594d0",
   "metadata": {},
   "source": [
    "# 30.> Develop a code that prompts the user to input two sets of strings. Then, print the symmetric difference of these two sets."
   ]
  },
  {
   "cell_type": "code",
   "execution_count": 33,
   "id": "e3396c7f",
   "metadata": {},
   "outputs": [
    {
     "name": "stdout",
     "output_type": "stream",
     "text": [
      "{1, 2, 5, 6, 7, 9}\n"
     ]
    }
   ],
   "source": [
    "set_A = {1, 2, 3, 4, 5}\n",
    "set_B = {6, 7, 3, 9, 4}\n",
    "print(set_A.symmetric_difference(set_B))\n"
   ]
  },
  {
   "cell_type": "markdown",
   "id": "d0438826",
   "metadata": {},
   "source": [
    "# 31. > Write a code that takes a list of words as input and returns a dictionary where the keys are unique words and the values are the frequencies of those words in the input list."
   ]
  },
  {
   "cell_type": "code",
   "execution_count": 34,
   "id": "c7c098d7",
   "metadata": {},
   "outputs": [
    {
     "name": "stdout",
     "output_type": "stream",
     "text": [
      " 1 :  5\n",
      " 5 :  2\n",
      " 3 :  3\n",
      " 4 :  3\n",
      " 2 :  4\n"
     ]
    }
   ],
   "source": [
    "def CountFrequency(my_list):\n",
    "    freq = {}\n",
    "    for item in my_list:\n",
    "        if (item in freq):\n",
    "            freq[item] += 1\n",
    "        else:\n",
    "            freq[item] = 1\n",
    " \n",
    "    for key, value in freq.items():\n",
    "        print(\"% d : % d\" % (key, value))\n",
    "if __name__ == \"__main__\":\n",
    "    my_list = [1, 1, 1, 5, 5, 3, 1, 3, 3, 1, 4, 4, 4, 2, 2, 2, 2]\n",
    " \n",
    "    CountFrequency(my_list)"
   ]
  },
  {
   "cell_type": "markdown",
   "id": "4019a2fc",
   "metadata": {},
   "source": [
    "# 32. > Write a code that takes two dictionaries as input and merges them into a single dictionary. If there are common keys, the values should be added together."
   ]
  },
  {
   "cell_type": "code",
   "execution_count": 45,
   "id": "1d480c76",
   "metadata": {},
   "outputs": [
    {
     "name": "stdout",
     "output_type": "stream",
     "text": [
      "Enter the number of entries : 89\n",
      "Enter the number of entries : 33\n",
      "89 33\n"
     ]
    }
   ],
   "source": [
    "user_dict = {}\n",
    "\n",
    "num = int(input(\"Enter the number of entries : \"))\n",
    "key = int(input(\"Enter the number of entries : \"))\n",
    "print(num,key)"
   ]
  },
  {
   "cell_type": "markdown",
   "id": "382d77e5",
   "metadata": {},
   "source": [
    "# 33.  > Write a code to access a value in a nested dictionary. The function should take the dictionary and a list of keys as input, and return the corresponding value. If any of the keys do not exist in the dictionary, the function should return None."
   ]
  },
  {
   "cell_type": "code",
   "execution_count": 57,
   "id": "d596a20b",
   "metadata": {},
   "outputs": [
    {
     "name": "stdout",
     "output_type": "stream",
     "text": [
      "The original dictionary is :  {'Gfg': {'is': 'best'}}\n",
      "The nested safely accessed value is :  best\n"
     ]
    }
   ],
   "source": [
    "\n",
    "test_dict = {'Gfg': {'is': 'best'}}\n",
    "print(\"The original dictionary is : \", test_dict)\n",
    "keys = ['Gfg', 'is']\n",
    "val = test_dict\n",
    "for key in keys:\n",
    "\tif key in val:\n",
    "\t\tval = val[key]\n",
    "\telse:\n",
    "\t\tval = None\n",
    "\t\tbreak\n",
    "print(\"The nested safely accessed value is : \", val)\n"
   ]
  },
  {
   "cell_type": "markdown",
   "id": "a94ed424",
   "metadata": {},
   "source": [
    "# 34. > Write a code that takes a dictionary as input and returns a sorted version of it based on the values. You can choose whether to sort in ascending or descending order"
   ]
  },
  {
   "cell_type": "code",
   "execution_count": 58,
   "id": "c1c5c74c",
   "metadata": {},
   "outputs": [
    {
     "name": "stdout",
     "output_type": "stream",
     "text": [
      "Sorted dictionary is :\n",
      "[(1, 'a'), (2, 'b'), (3, 'c'), (4, 'd')]\n"
     ]
    }
   ],
   "source": [
    "\n",
    "my_dict = {'c': 3, \n",
    "        'a': 1, \n",
    "        'd': 4, \n",
    "        'b': 2}\n",
    "sorted_dict = sorted([(value, key)\n",
    "for (key, value) in my_dict.items()])\n",
    "\n",
    "print(\"Sorted dictionary is :\")\n",
    "print(sorted_dict)\n"
   ]
  },
  {
   "cell_type": "markdown",
   "id": "60e1fe43",
   "metadata": {},
   "source": [
    "# 35.> Write a code that inverts a dictionary, swapping keys and values. Ensure that the inverted dictionary correctly handles cases where multiple keys have the same value by storing the keys as a list in the inverted dictionary."
   ]
  },
  {
   "cell_type": "code",
   "execution_count": 60,
   "id": "a677e77c",
   "metadata": {},
   "outputs": [
    {
     "name": "stdout",
     "output_type": "stream",
     "text": [
      "Original dictionary is : \n",
      "{'A': 67, 'B': 23, 'C': 45, 'D': 56, 'E': 12, 'F': 69, 'G': 67, 'H': 23}\n",
      "\n",
      "Dictionary after swapping is : \n",
      "keys: values\n",
      "67  :  G\n",
      "23  :  H\n",
      "45  :  C\n",
      "56  :  D\n",
      "12  :  E\n",
      "69  :  F\n"
     ]
    }
   ],
   "source": [
    "\n",
    "old_dict = {'A': 67, 'B': 23, 'C': 45, 'D': 56, 'E': 12, 'F': 69, 'G': 67, 'H': 23}\n",
    "\n",
    "new_dict = dict([(value, key) for key, value in old_dict.items()])\n",
    "print (\"Original dictionary is : \")\n",
    "print(old_dict) \n",
    "\n",
    "print()\n",
    "print (\"Dictionary after swapping is : \") \n",
    "print(\"keys: values\")\n",
    "for i in new_dict:\n",
    "    print(i, \" : \", new_dict[i])\n"
   ]
  },
  {
   "cell_type": "code",
   "execution_count": null,
   "id": "3bdd7f9a",
   "metadata": {},
   "outputs": [],
   "source": []
  }
 ],
 "metadata": {
  "kernelspec": {
   "display_name": "Python 3 (ipykernel)",
   "language": "python",
   "name": "python3"
  },
  "language_info": {
   "codemirror_mode": {
    "name": "ipython",
    "version": 3
   },
   "file_extension": ".py",
   "mimetype": "text/x-python",
   "name": "python",
   "nbconvert_exporter": "python",
   "pygments_lexer": "ipython3",
   "version": "3.11.7"
  }
 },
 "nbformat": 4,
 "nbformat_minor": 5
}
